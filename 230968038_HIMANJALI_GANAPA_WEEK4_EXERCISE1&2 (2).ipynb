{
 "cells": [
  {
   "cell_type": "markdown",
   "id": "82b5e944",
   "metadata": {},
   "source": [
    "# EXERCISE-1"
   ]
  },
  {
   "cell_type": "code",
   "execution_count": 1,
   "id": "9d240429",
   "metadata": {},
   "outputs": [],
   "source": [
    "import pandas as pd"
   ]
  },
  {
   "cell_type": "code",
   "execution_count": 2,
   "id": "e5b9746f",
   "metadata": {},
   "outputs": [
    {
     "name": "stdout",
     "output_type": "stream",
     "text": [
      "<class 'pandas.core.frame.DataFrame'>\n",
      "RangeIndex: 1067 entries, 0 to 1066\n",
      "Data columns (total 13 columns):\n",
      " #   Column                    Non-Null Count  Dtype  \n",
      "---  ------                    --------------  -----  \n",
      " 0   MODELYEAR                 1067 non-null   int64  \n",
      " 1   MAKE                      1067 non-null   object \n",
      " 2   MODEL                     1067 non-null   object \n",
      " 3   VEHICLECLASS              1067 non-null   object \n",
      " 4   ENGINESIZE                1067 non-null   float64\n",
      " 5   CYLINDERS                 1067 non-null   int64  \n",
      " 6   TRANSMISSION              1067 non-null   object \n",
      " 7   FUELTYPE                  1067 non-null   object \n",
      " 8   FUELCONSUMPTION_CITY      1067 non-null   float64\n",
      " 9   FUELCONSUMPTION_HWY       1067 non-null   float64\n",
      " 10  FUELCONSUMPTION_COMB      1067 non-null   float64\n",
      " 11  FUELCONSUMPTION_COMB_MPG  1067 non-null   int64  \n",
      " 12  CO2EMISSIONS              1067 non-null   int64  \n",
      "dtypes: float64(4), int64(4), object(5)\n",
      "memory usage: 108.5+ KB\n"
     ]
    }
   ],
   "source": [
    "df=pd.read_csv(\"C:\\\\Users\\\\mca\\\\Desktop\\\\ML LAB\\\\Week 4\\\\FuelConsumption.csv\")\n",
    "df.info()"
   ]
  },
  {
   "cell_type": "markdown",
   "id": "dac264ec",
   "metadata": {},
   "source": [
    "###  1. Select the features 'ENGINESIZE', 'CYLINDERS', 'FUELCONSUMPTION_COMB', 'CO2EMISSIONS' to use for building the model. Plot Emission values with respect to Engine size. "
   ]
  },
  {
   "cell_type": "code",
   "execution_count": 3,
   "id": "cdebf3d9",
   "metadata": {},
   "outputs": [
    {
     "data": {
      "text/html": [
       "<div>\n",
       "<style scoped>\n",
       "    .dataframe tbody tr th:only-of-type {\n",
       "        vertical-align: middle;\n",
       "    }\n",
       "\n",
       "    .dataframe tbody tr th {\n",
       "        vertical-align: top;\n",
       "    }\n",
       "\n",
       "    .dataframe thead th {\n",
       "        text-align: right;\n",
       "    }\n",
       "</style>\n",
       "<table border=\"1\" class=\"dataframe\">\n",
       "  <thead>\n",
       "    <tr style=\"text-align: right;\">\n",
       "      <th></th>\n",
       "      <th>ENGINESIZE</th>\n",
       "      <th>CYLINDERS</th>\n",
       "      <th>FUELCONSUMPTION_COMB</th>\n",
       "      <th>CO2EMISSIONS</th>\n",
       "    </tr>\n",
       "  </thead>\n",
       "  <tbody>\n",
       "    <tr>\n",
       "      <th>0</th>\n",
       "      <td>2.0</td>\n",
       "      <td>4</td>\n",
       "      <td>8.5</td>\n",
       "      <td>196</td>\n",
       "    </tr>\n",
       "    <tr>\n",
       "      <th>1</th>\n",
       "      <td>2.4</td>\n",
       "      <td>4</td>\n",
       "      <td>9.6</td>\n",
       "      <td>221</td>\n",
       "    </tr>\n",
       "    <tr>\n",
       "      <th>2</th>\n",
       "      <td>1.5</td>\n",
       "      <td>4</td>\n",
       "      <td>5.9</td>\n",
       "      <td>136</td>\n",
       "    </tr>\n",
       "    <tr>\n",
       "      <th>3</th>\n",
       "      <td>3.5</td>\n",
       "      <td>6</td>\n",
       "      <td>11.1</td>\n",
       "      <td>255</td>\n",
       "    </tr>\n",
       "    <tr>\n",
       "      <th>4</th>\n",
       "      <td>3.5</td>\n",
       "      <td>6</td>\n",
       "      <td>10.6</td>\n",
       "      <td>244</td>\n",
       "    </tr>\n",
       "  </tbody>\n",
       "</table>\n",
       "</div>"
      ],
      "text/plain": [
       "   ENGINESIZE  CYLINDERS  FUELCONSUMPTION_COMB  CO2EMISSIONS\n",
       "0         2.0          4                   8.5           196\n",
       "1         2.4          4                   9.6           221\n",
       "2         1.5          4                   5.9           136\n",
       "3         3.5          6                  11.1           255\n",
       "4         3.5          6                  10.6           244"
      ]
     },
     "execution_count": 3,
     "metadata": {},
     "output_type": "execute_result"
    }
   ],
   "source": [
    "\n",
    "df = df[['ENGINESIZE', 'CYLINDERS', 'FUELCONSUMPTION_COMB', 'CO2EMISSIONS']]\n",
    "df.head()"
   ]
  },
  {
   "cell_type": "code",
   "execution_count": 4,
   "id": "10034085",
   "metadata": {},
   "outputs": [
    {
     "data": {
      "image/png": "[encoded data removed]",
      "text/plain": [
       "<Figure size 432x288 with 1 Axes>"
      ]
     },
     "metadata": {
      "needs_background": "light"
     },
     "output_type": "display_data"
    }
   ],
   "source": [
    "import matplotlib.pyplot as plt\n",
    "\n",
    "# Plot CO2 Emissions vs Engine Size\n",
    "plt.scatter(df['ENGINESIZE'], df['CO2EMISSIONS'], color='blue', alpha=0.5)\n",
    "plt.title('CO2 Emissions vs Engine Size')\n",
    "plt.xlabel('Engine Size (L)')\n",
    "plt.ylabel('CO2 Emissions (g/km)')\n",
    "plt.show()"
   ]
  },
  {
   "cell_type": "markdown",
   "id": "4e97e228",
   "metadata": {},
   "source": [
    "### 2. Split the data into training and test sets (70:30) to create a model using training set, evaluate the model using test set, and use model to predict unknown value."
   ]
  },
  {
   "cell_type": "code",
   "execution_count": 7,
   "id": "79d464ad",
   "metadata": {},
   "outputs": [
    {
     "name": "stdout",
     "output_type": "stream",
     "text": [
      "Mean Squared Error (MSE): 503.60315057448133\n",
      "R-squared (R²): 0.8751447816602107\n",
      "Predicted CO2 Emissions for new data point: 238.90698704783648 g/km\n"
     ]
    }
   ],
   "source": [
    "from sklearn.model_selection import train_test_split\n",
    "from sklearn.metrics import r2_score,mean_squared_error,mean_absolute_error\n",
    "from sklearn.linear_model import LinearRegression\n",
    "X = df[['ENGINESIZE', 'CYLINDERS', 'FUELCONSUMPTION_COMB']]\n",
    "y = df['CO2EMISSIONS']\n",
    "X_train, X_test, y_train, y_test = train_test_split(X, y, test_size=0.3, random_state=42)\n",
    "model=LinearRegression()\n",
    "model.fit(X_train,y_train)\n",
    "\n",
    "y_pred=model.predict(X_test)\n",
    "mse=mean_squared_error(y_test,y_pred)\n",
    "r2=r2_score(y_test,y_pred)\n",
    "\n",
    "print(f'Mean Squared Error (MSE): {mse}')\n",
    "print(f'R-squared (R²): {r2}')\n",
    "\n",
    "new_data = pd.DataFrame([[3.0, 6, 10.0]], columns=['ENGINESIZE', 'CYLINDERS', 'FUELCONSUMPTION_COMB'])\n",
    "predicted_emission = model.predict(new_data)\n",
    "\n",
    "print(f'Predicted CO2 Emissions for new data point: {predicted_emission[0]} g/km')"
   ]
  },
  {
   "cell_type": "markdown",
   "id": "2007bf04",
   "metadata": {},
   "source": [
    "### 3. Try to use a polynomial regression with the dataset of degree – 3, 4 & 5. Verify the accuracy by calculating Mean absolute error, Residual sum of squares, R2-score and comment on which model is the best."
   ]
  },
  {
   "cell_type": "code",
   "execution_count": 11,
   "id": "d6ba0e96",
   "metadata": {},
   "outputs": [
    {
     "name": "stdout",
     "output_type": "stream",
     "text": [
      "Degree 3:\n",
      "  Mean Absolute Error (MAE): 10.230711579367133\n",
      "  Residual Sum of Squares (RSS): 87722.80578346297\n",
      "  R-squared (R²): 0.9322474349854076\n",
      "--------------------------------------------------\n",
      "Degree 4:\n",
      "  Mean Absolute Error (MAE): 9.645981137997635\n",
      "  Residual Sum of Squares (RSS): 82952.5988710433\n",
      "  R-squared (R²): 0.9359316964620019\n",
      "--------------------------------------------------\n",
      "Degree 5:\n",
      "  Mean Absolute Error (MAE): 8.255203275108634\n",
      "  Residual Sum of Squares (RSS): 74297.16373876068\n",
      "  R-squared (R²): 0.9426167075750426\n",
      "--------------------------------------------------\n",
      "\n",
      "The best model is the polynomial regression with degree 5.\n"
     ]
    }
   ],
   "source": [
    "from sklearn.preprocessing import PolynomialFeatures\n",
    "import numpy as np\n",
    "def evaluate_polynomial_model(degree, X_train, X_test, y_train, y_test):\n",
    "    poly=PolynomialFeatures(degree=degree)\n",
    "    x_train_poly=poly.fit_transform(X_train)\n",
    "    x_test_poly=poly.transform(X_test)\n",
    "    \n",
    "    model = LinearRegression()\n",
    "    model.fit(x_train_poly, y_train)\n",
    "    \n",
    "    y_pred=model.predict(x_test_poly)\n",
    "    \n",
    "    mae = mean_absolute_error(y_test, y_pred)\n",
    "    rss = np.sum((y_test - y_pred) ** 2)  \n",
    "    r2 = r2_score(y_test, y_pred)\n",
    "    return mae, rss, r2, model\n",
    "results = {}\n",
    "for degree in [3, 4, 5]:\n",
    "    mae, rss, r2, model = evaluate_polynomial_model(degree, X_train, X_test,y_train,y_test)\n",
    "    results[degree] = {'MAE': mae, 'RSS': rss, 'R2': r2}\n",
    "    \n",
    "for degree in [3, 4, 5]:\n",
    "    print(f\"Degree {degree}:\")\n",
    "    print(f\"  Mean Absolute Error (MAE): {results[degree]['MAE']}\")\n",
    "    print(f\"  Residual Sum of Squares (RSS): {results[degree]['RSS']}\")\n",
    "    print(f\"  R-squared (R²): {results[degree]['R2']}\")\n",
    "    print(\"-\" * 50)    \n",
    "\n",
    "best_degree = min(results, key=lambda x: results[x]['MAE']) \n",
    "print(f\"\\nThe best model is the polynomial regression with degree {best_degree}.\")"
   ]
  },
  {
   "cell_type": "markdown",
   "id": "733cd7b5",
   "metadata": {},
   "source": [
    "# EXERCISE-2 "
   ]
  },
  {
   "cell_type": "code",
   "execution_count": 12,
   "id": "50de9183",
   "metadata": {},
   "outputs": [
    {
     "name": "stdout",
     "output_type": "stream",
     "text": [
      "<class 'pandas.core.frame.DataFrame'>\n",
      "RangeIndex: 545 entries, 0 to 544\n",
      "Data columns (total 13 columns):\n",
      " #   Column            Non-Null Count  Dtype \n",
      "---  ------            --------------  ----- \n",
      " 0   price             545 non-null    int64 \n",
      " 1   area              545 non-null    int64 \n",
      " 2   bedrooms          545 non-null    int64 \n",
      " 3   bathrooms         545 non-null    int64 \n",
      " 4   stories           545 non-null    int64 \n",
      " 5   mainroad          545 non-null    object\n",
      " 6   guestroom         545 non-null    object\n",
      " 7   basement          545 non-null    object\n",
      " 8   hotwaterheating   545 non-null    object\n",
      " 9   airconditioning   545 non-null    object\n",
      " 10  parking           545 non-null    int64 \n",
      " 11  prefarea          545 non-null    object\n",
      " 12  furnishingstatus  545 non-null    object\n",
      "dtypes: int64(6), object(7)\n",
      "memory usage: 55.5+ KB\n"
     ]
    }
   ],
   "source": [
    "db=pd.read_csv(\"C:\\\\Users\\\\mca\\\\Desktop\\\\ML LAB\\\\Week 4\\\\Housing.csv\")\n",
    "db.info()"
   ]
  },
  {
   "cell_type": "code",
   "execution_count": 13,
   "id": "2b434199",
   "metadata": {},
   "outputs": [
    {
     "data": {
      "text/html": [
       "<div>\n",
       "<style scoped>\n",
       "    .dataframe tbody tr th:only-of-type {\n",
       "        vertical-align: middle;\n",
       "    }\n",
       "\n",
       "    .dataframe tbody tr th {\n",
       "        vertical-align: top;\n",
       "    }\n",
       "\n",
       "    .dataframe thead th {\n",
       "        text-align: right;\n",
       "    }\n",
       "</style>\n",
       "<table border=\"1\" class=\"dataframe\">\n",
       "  <thead>\n",
       "    <tr style=\"text-align: right;\">\n",
       "      <th></th>\n",
       "      <th>price</th>\n",
       "      <th>area</th>\n",
       "      <th>bedrooms</th>\n",
       "      <th>bathrooms</th>\n",
       "      <th>stories</th>\n",
       "      <th>mainroad</th>\n",
       "      <th>guestroom</th>\n",
       "      <th>basement</th>\n",
       "      <th>hotwaterheating</th>\n",
       "      <th>airconditioning</th>\n",
       "      <th>parking</th>\n",
       "      <th>prefarea</th>\n",
       "      <th>furnishingstatus</th>\n",
       "    </tr>\n",
       "  </thead>\n",
       "  <tbody>\n",
       "    <tr>\n",
       "      <th>0</th>\n",
       "      <td>13300000</td>\n",
       "      <td>7420</td>\n",
       "      <td>4</td>\n",
       "      <td>2</td>\n",
       "      <td>3</td>\n",
       "      <td>yes</td>\n",
       "      <td>no</td>\n",
       "      <td>no</td>\n",
       "      <td>no</td>\n",
       "      <td>yes</td>\n",
       "      <td>2</td>\n",
       "      <td>yes</td>\n",
       "      <td>furnished</td>\n",
       "    </tr>\n",
       "    <tr>\n",
       "      <th>1</th>\n",
       "      <td>12250000</td>\n",
       "      <td>8960</td>\n",
       "      <td>4</td>\n",
       "      <td>4</td>\n",
       "      <td>4</td>\n",
       "      <td>yes</td>\n",
       "      <td>no</td>\n",
       "      <td>no</td>\n",
       "      <td>no</td>\n",
       "      <td>yes</td>\n",
       "      <td>3</td>\n",
       "      <td>no</td>\n",
       "      <td>furnished</td>\n",
       "    </tr>\n",
       "    <tr>\n",
       "      <th>2</th>\n",
       "      <td>12250000</td>\n",
       "      <td>9960</td>\n",
       "      <td>3</td>\n",
       "      <td>2</td>\n",
       "      <td>2</td>\n",
       "      <td>yes</td>\n",
       "      <td>no</td>\n",
       "      <td>yes</td>\n",
       "      <td>no</td>\n",
       "      <td>no</td>\n",
       "      <td>2</td>\n",
       "      <td>yes</td>\n",
       "      <td>semi-furnished</td>\n",
       "    </tr>\n",
       "    <tr>\n",
       "      <th>3</th>\n",
       "      <td>12215000</td>\n",
       "      <td>7500</td>\n",
       "      <td>4</td>\n",
       "      <td>2</td>\n",
       "      <td>2</td>\n",
       "      <td>yes</td>\n",
       "      <td>no</td>\n",
       "      <td>yes</td>\n",
       "      <td>no</td>\n",
       "      <td>yes</td>\n",
       "      <td>3</td>\n",
       "      <td>yes</td>\n",
       "      <td>furnished</td>\n",
       "    </tr>\n",
       "    <tr>\n",
       "      <th>4</th>\n",
       "      <td>11410000</td>\n",
       "      <td>7420</td>\n",
       "      <td>4</td>\n",
       "      <td>1</td>\n",
       "      <td>2</td>\n",
       "      <td>yes</td>\n",
       "      <td>yes</td>\n",
       "      <td>yes</td>\n",
       "      <td>no</td>\n",
       "      <td>yes</td>\n",
       "      <td>2</td>\n",
       "      <td>no</td>\n",
       "      <td>furnished</td>\n",
       "    </tr>\n",
       "  </tbody>\n",
       "</table>\n",
       "</div>"
      ],
      "text/plain": [
       "      price  area  bedrooms  bathrooms  stories mainroad guestroom basement  \\\n",
       "0  13300000  7420         4          2        3      yes        no       no   \n",
       "1  12250000  8960         4          4        4      yes        no       no   \n",
       "2  12250000  9960         3          2        2      yes        no      yes   \n",
       "3  12215000  7500         4          2        2      yes        no      yes   \n",
       "4  11410000  7420         4          1        2      yes       yes      yes   \n",
       "\n",
       "  hotwaterheating airconditioning  parking prefarea furnishingstatus  \n",
       "0              no             yes        2      yes        furnished  \n",
       "1              no             yes        3       no        furnished  \n",
       "2              no              no        2      yes   semi-furnished  \n",
       "3              no             yes        3      yes        furnished  \n",
       "4              no             yes        2       no        furnished  "
      ]
     },
     "execution_count": 13,
     "metadata": {},
     "output_type": "execute_result"
    }
   ],
   "source": [
    "db.head()"
   ]
  },
  {
   "cell_type": "code",
   "execution_count": 14,
   "id": "8f320158",
   "metadata": {},
   "outputs": [],
   "source": [
    "from sklearn.model_selection import train_test_split\n",
    "from sklearn.preprocessing import StandardScaler\n",
    "from sklearn.linear_model import Ridge, Lasso\n",
    "from sklearn.metrics import mean_absolute_error, mean_squared_error, r2_score\n",
    "import numpy as np"
   ]
  },
  {
   "cell_type": "code",
   "execution_count": 15,
   "id": "379ba947",
   "metadata": {},
   "outputs": [],
   "source": [
    "features = db.drop(columns=['price'])  \n",
    "target = db['price'] \n",
    "feature_encoded = pd.get_dummies(features)"
   ]
  },
  {
   "cell_type": "markdown",
   "id": "67d60a2e",
   "metadata": {},
   "source": [
    "## NORMAL REGRESSION MODEL"
   ]
  },
  {
   "cell_type": "code",
   "execution_count": 16,
   "id": "73d01db4",
   "metadata": {},
   "outputs": [],
   "source": [
    "import pandas as pd\n",
    "from sklearn.model_selection import train_test_split\n",
    "from sklearn.preprocessing import StandardScaler\n",
    "\n",
    "housing_data = pd.read_csv(\"C:\\\\Users\\\\mca\\\\Desktop\\\\ML LAB\\\\Week 4\\\\Housing.csv\")\n",
    "features = housing_data.drop(columns=['price'])  \n",
    "target = housing_data['price']  \n",
    "\n",
    "features_encoded = pd.get_dummies(features)\n",
    "\n",
    "X_train, X_test, y_train, y_test = train_test_split(features_encoded, target, test_size=0.30, random_state=42)\n",
    "\n",
    "X_test.to_csv(\"C:\\\\Users\\\\mca\\\\Desktop\\\\ML LAB\\\\Week 4\\\\HousePriceTest.csv\", index=False)\n",
    "\n",
    "scaler = StandardScaler()\n",
    "\n",
    "X_train_scaled = scaler.fit_transform(X_train)\n",
    "\n",
    "X_test_scaled = scaler.transform(X_test)"
   ]
  },
  {
   "cell_type": "code",
   "execution_count": 17,
   "id": "2eb2f2a3",
   "metadata": {},
   "outputs": [
    {
     "name": "stdout",
     "output_type": "stream",
     "text": [
      "Training Set Performance: MAE=720245.1987194591, MSE=963835379828.3596, RMSE=981751.1802021731, R2=0.6931989807027313\n",
      "Test Set Performance: MAE=920392.9397607954, MSE=1523019469501.2908, RMSE=1234106.7496376846, R2=0.6463350878895878\n"
     ]
    }
   ],
   "source": [
    "lr_model = LinearRegression()\n",
    "\n",
    "lr_model.fit(X_train_scaled, y_train)\n",
    "\n",
    "train_predictions = lr_model.predict(X_train_scaled)\n",
    "test_predictions = lr_model.predict(X_test_scaled)\n",
    "\n",
    "train_mae = mean_absolute_error(y_train, train_predictions)\n",
    "train_mse = mean_squared_error(y_train, train_predictions)\n",
    "train_rmse = np.sqrt(train_mse)\n",
    "train_r2 = r2_score(y_train, train_predictions)\n",
    "\n",
    "test_mae = mean_absolute_error(y_test, test_predictions)\n",
    "test_mse = mean_squared_error(y_test, test_predictions)\n",
    "test_rmse = np.sqrt(test_mse)\n",
    "test_r2 = r2_score(y_test, test_predictions)\n",
    "\n",
    "print(f\"Training Set Performance: MAE={train_mae}, MSE={train_mse}, RMSE={train_rmse}, R2={train_r2}\")\n",
    "print(f\"Test Set Performance: MAE={test_mae}, MSE={test_mse}, RMSE={test_rmse}, R2={test_r2}\")"
   ]
  },
  {
   "cell_type": "markdown",
   "id": "c3157f94",
   "metadata": {},
   "source": [
    "### Performance Analysis:\n",
    "#### Training Set Performance:\n",
    "##### MAE (720,245): On average, the model's predictions are off by 720,245 units, which gives us an idea of the model’s error on the training data.MSE (963,835,379,828): The squared errors for the training predictions are relatively high, indicating some large errors. The MSE tends to grow as errors increase.\n",
    "##### RMSE (981,751): This shows the average error magnitude is nearly 1 million, which is large considering this could be house prices.R² (0.693): This means that around 69% of the variance in the training data is explained by the model. It's a decent fit, but there is room for improvement.\n",
    "\n",
    "#### Test Set Performance:\n",
    "##### MAE (920,392): The test error is larger than the training error by about 200,000, which is a significant difference and could indicate overfitting. The model performs better on the training set but struggles more on the test set.\n",
    "##### MSE (1,523,019,469,501): The MSE for the test set is significantly larger than for the training set, suggesting that the model is failing to generalize well.\n",
    "##### RMSE (1,234,107): This is also higher than the training RMSE, further suggesting that the model is not generalizing well.\n",
    "##### R² (0.646): The model explains only about 65% of the variance on the test data, which is lower than its performance on the training data. This reinforces the idea that the model is overfitting.\n",
    "\n",
    "### Conclusion: Overfitting Identified\n",
    "##### The fact that the R² score on the test set (0.646) is significantly lower than on the training set (0.693), along with the higher error metrics on the test set, suggests that the model might be overfitting the training data. Overfitting happens when the model performs well on the training data but fails to generalize to new, unseen data."
   ]
  },
  {
   "cell_type": "markdown",
   "id": "203260ea",
   "metadata": {},
   "source": [
    "## RIDGE REGRESSION MODEL"
   ]
  },
  {
   "cell_type": "code",
   "execution_count": 18,
   "id": "50cc788d",
   "metadata": {},
   "outputs": [
    {
     "name": "stdout",
     "output_type": "stream",
     "text": [
      "Ridge Regression Performance: MAE=918094.0564868874, MSE=1519829478584.4587, RMSE=1232813.6430882239, R2=0.6470758452336839\n"
     ]
    }
   ],
   "source": [
    "ridge_model = Ridge(alpha=10.0)  \n",
    "ridge_model.fit(X_train_scaled, y_train)\n",
    "ridge_predictions = ridge_model.predict(X_test_scaled)\n",
    "ridge_mae = mean_absolute_error(y_test, ridge_predictions)\n",
    "ridge_mse = mean_squared_error(y_test, ridge_predictions)\n",
    "ridge_rmse = np.sqrt(ridge_mse)\n",
    "ridge_r2 = r2_score(y_test, ridge_predictions)\n",
    "\n",
    "print(f\"Ridge Regression Performance: MAE={ridge_mae}, MSE={ridge_mse}, RMSE={ridge_rmse}, R2={ridge_r2}\")\n"
   ]
  },
  {
   "cell_type": "markdown",
   "id": "f4266d20",
   "metadata": {},
   "source": [
    "## LASSO REGRESSION MODEL"
   ]
  },
  {
   "cell_type": "code",
   "execution_count": 19,
   "id": "8386dc34",
   "metadata": {},
   "outputs": [
    {
     "name": "stdout",
     "output_type": "stream",
     "text": [
      "Lasso Regression Performance: MAE=920392.9397609088, MSE=1523019469502.0298, RMSE=1234106.749637984, R2=0.6463350878894162\n"
     ]
    }
   ],
   "source": [
    "lasso_model = Lasso(alpha=1e-06)  \n",
    "lasso_model.fit(X_train_scaled, y_train)\n",
    "lasso_predictions = lasso_model.predict(X_test_scaled)\n",
    "lasso_mae = mean_absolute_error(y_test, lasso_predictions)\n",
    "lasso_mse = mean_squared_error(y_test, lasso_predictions)\n",
    "lasso_rmse = np.sqrt(lasso_mse)\n",
    "lasso_r2 = r2_score(y_test, lasso_predictions)\n",
    "\n",
    "print(f\"Lasso Regression Performance: MAE={lasso_mae}, MSE={lasso_mse}, RMSE={lasso_rmse}, R2={lasso_r2}\")"
   ]
  },
  {
   "cell_type": "markdown",
   "id": "0c0698ef",
   "metadata": {},
   "source": [
    "### After Comparing Both Errors from Ridge and Lasso we can conclude that Ridge Model performs slightly better than Lasso in terms of all error metrics (MAE, MSE, and RMSE). The difference, however, is very minimal, so from a performance perspective, both models are quite close."
   ]
  },
  {
   "cell_type": "markdown",
   "id": "6aaaee7b",
   "metadata": {},
   "source": [
    "## Creating new csv file and evaluating the model."
   ]
  },
  {
   "cell_type": "code",
   "execution_count": 25,
   "id": "6668c061",
   "metadata": {},
   "outputs": [],
   "source": [
    "import pandas as pd\n",
    "from sklearn.preprocessing import StandardScaler\n",
    "from sklearn.linear_model import Ridge, Lasso\n",
    "unseen_data = pd.read_csv(\"C:\\\\Users\\\\mca\\\\Desktop\\\\ML LAB\\\\Week 4\\\\HousePriceTest.csv\")\n",
    "unseen_data_encoded = pd.get_dummies(unseen_data)\n",
    "training_data = pd.read_csv(\"C:\\\\Users\\\\mca\\\\Desktop\\\\ML LAB\\\\Week 4\\\\Housing.csv\")\n",
    "features_train = training_data.drop(columns=['price'])\n",
    "features_train_encoded = pd.get_dummies(features_train)\n",
    "unseen_data_encoded = unseen_data_encoded.reindex(columns=features_train_encoded.columns, fill_value=0)\n",
    "scaler = StandardScaler()\n",
    "X_unseen_scaled = scaler.fit_transform(unseen_data_encoded)\n",
    "ridge_model = Ridge(1.0)\n",
    "lasso_model = Lasso(1.0)\n",
    "ridge_model.fit(X_train_scaled, y_train)\n",
    "lasso_model.fit(X_train_scaled, y_train)\n",
    "ridge_predictions = ridge_model.predict(X_unseen_scaled)\n",
    "lasso_predictions = lasso_model.predict(X_unseen_scaled)\n",
    "unseen_data['Ridge_Predicted_Price'] = ridge_predictions\n",
    "unseen_data['Lasso_Predicted_Price'] = lasso_predictions\n",
    "unseen_data.to_csv(\"C:\\\\Users\\\\mca\\\\Desktop\\\\ML LAB\\\\Week 4\\\\Predicted_HousePrices.csv\", index=False)"
   ]
  },
  {
   "cell_type": "code",
   "execution_count": 26,
   "id": "bcbdc552",
   "metadata": {},
   "outputs": [
    {
     "name": "stdout",
     "output_type": "stream",
     "text": [
      "Performance Analysis on Training Data (Ridge):\n",
      "MAE: 720162.0942223759\n",
      "MSE: 963840091107.4456\n",
      "RMSE: 981753.5796254809\n",
      "R²: 0.6931974810428765\n",
      "\n",
      "Performance Analysis on Training Data (Lasso):\n",
      "MAE: 720244.9131580056\n",
      "MSE: 963835379834.249\n",
      "RMSE: 981751.1802051725\n",
      "R²: 0.6931989807008566\n"
     ]
    }
   ],
   "source": [
    "ridge_train_predictions = ridge_model.predict(X_train_scaled)\n",
    "lasso_train_predictions = lasso_model.predict(X_train_scaled)\n",
    "ridge_train_mae = mean_absolute_error(y_train, ridge_train_predictions)\n",
    "ridge_train_mse = mean_squared_error(y_train, ridge_train_predictions)\n",
    "ridge_train_rmse = np.sqrt(ridge_train_mse)\n",
    "ridge_train_r2 = r2_score(y_train, ridge_train_predictions)\n",
    "\n",
    "lasso_train_mae = mean_absolute_error(y_train, lasso_train_predictions)\n",
    "lasso_train_mse = mean_squared_error(y_train, lasso_train_predictions)\n",
    "lasso_train_rmse = np.sqrt(lasso_train_mse)\n",
    "lasso_train_r2 = r2_score(y_train, lasso_train_predictions)\n",
    "print(\"Performance Analysis on Training Data (Ridge):\")\n",
    "print(f\"MAE: {ridge_train_mae}\")\n",
    "print(f\"MSE: {ridge_train_mse}\")\n",
    "print(f\"RMSE: {ridge_train_rmse}\")\n",
    "print(f\"R²: {ridge_train_r2}\")\n",
    "print(\"\\nPerformance Analysis on Training Data (Lasso):\")\n",
    "print(f\"MAE: {lasso_train_mae}\")\n",
    "print(f\"MSE: {lasso_train_mse}\")\n",
    "print(f\"RMSE: {lasso_train_rmse}\")\n",
    "print(f\"R²: {lasso_train_r2}\")"
   ]
  },
  {
   "cell_type": "code",
   "execution_count": 27,
   "id": "99e43dd4",
   "metadata": {},
   "outputs": [
    {
     "name": "stdout",
     "output_type": "stream",
     "text": [
      "Performance Analysis on Test Data (Ridge):\n",
      "MAE: 920153.6740992698\n",
      "MSE: 1522626165807.7397\n",
      "RMSE: 1233947.3918314911\n",
      "R²: 0.6464264181181225\n",
      "\n",
      "Performance Analysis on Test Data (Lasso):\n",
      "MAE: 920393.0563346349\n",
      "MSE: 1523020221491.312\n",
      "RMSE: 1234107.0543074098\n",
      "R²: 0.646334913267733\n"
     ]
    }
   ],
   "source": [
    "from sklearn.metrics import mean_absolute_error, mean_squared_error, r2_score\n",
    "import numpy as np\n",
    "\n",
    "ridge_test_predictions = ridge_model.predict(X_test_scaled)\n",
    "lasso_test_predictions = lasso_model.predict(X_test_scaled)\n",
    "\n",
    "ridge_test_mae = mean_absolute_error(y_test, ridge_test_predictions)\n",
    "ridge_test_mse = mean_squared_error(y_test, ridge_test_predictions)\n",
    "ridge_test_rmse = np.sqrt(ridge_test_mse)\n",
    "ridge_test_r2 = r2_score(y_test, ridge_test_predictions)\n",
    "\n",
    "lasso_test_mae = mean_absolute_error(y_test, lasso_test_predictions)\n",
    "lasso_test_mse = mean_squared_error(y_test, lasso_test_predictions)\n",
    "lasso_test_rmse = np.sqrt(lasso_test_mse)\n",
    "lasso_test_r2 = r2_score(y_test, lasso_test_predictions)\n",
    "print(\"Performance Analysis on Test Data (Ridge):\")\n",
    "print(f\"MAE: {ridge_test_mae}\")\n",
    "print(f\"MSE: {ridge_test_mse}\")\n",
    "print(f\"RMSE: {ridge_test_rmse}\")\n",
    "print(f\"R²: {ridge_test_r2}\")\n",
    "\n",
    "print(\"\\nPerformance Analysis on Test Data (Lasso):\")\n",
    "print(f\"MAE: {lasso_test_mae}\")\n",
    "print(f\"MSE: {lasso_test_mse}\")\n",
    "print(f\"RMSE: {lasso_test_rmse}\")\n",
    "print(f\"R²: {lasso_test_r2}\")"
   ]
  },
  {
   "cell_type": "markdown",
   "id": "8f1dc89f",
   "metadata": {},
   "source": [
    "## In both cases Ridge is producing slightly more efficient models"
   ]
  },
  {
   "cell_type": "code",
   "execution_count": 28,
   "id": "ac51554e",
   "metadata": {},
   "outputs": [
    {
     "name": "stdout",
     "output_type": "stream",
     "text": [
      "R² on Test Data (Ridge Regression): 0.6464264181181225\n",
      "R² on Test Data (Lasso Regression): 0.646334913267733\n"
     ]
    }
   ],
   "source": [
    "from sklearn.metrics import r2_score\n",
    "ridge_test_predictions = ridge_model.predict(X_test_scaled)\n",
    "lasso_test_predictions = lasso_model.predict(X_test_scaled)\n",
    "\n",
    "ridge_r2 = r2_score(y_test, ridge_test_predictions)\n",
    "lasso_r2 = r2_score(y_test, lasso_test_predictions)\n",
    "print(\"R² on Test Data (Ridge Regression):\", ridge_r2)\n",
    "print(\"R² on Test Data (Lasso Regression):\", lasso_r2)"
   ]
  }
 ],
 "metadata": {
  "kernelspec": {
   "display_name": "Python 3 (ipykernel)",
   "language": "python",
   "name": "python3"
  },
  "language_info": {
   "codemirror_mode": {
    "name": "ipython",
    "version": 3
   },
   "file_extension": ".py",
   "mimetype": "text/x-python",
   "name": "python",
   "nbconvert_exporter": "python",
   "pygments_lexer": "ipython3",
   "version": "3.9.12"
  }
 },
 "nbformat": 4,
 "nbformat_minor": 5
}
