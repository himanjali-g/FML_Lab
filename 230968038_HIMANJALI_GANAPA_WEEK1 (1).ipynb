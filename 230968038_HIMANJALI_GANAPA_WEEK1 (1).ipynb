{
 "cells": [
  {
   "cell_type": "code",
   "execution_count": 3,
   "id": "643971bd",
   "metadata": {},
   "outputs": [],
   "source": [
    "import pandas as pd\n",
    "import numpy as np\n",
    "import matplotlib.pyplot as plt\n",
    "import seaborn as sns"
   ]
  },
  {
   "cell_type": "code",
   "execution_count": 4,
   "id": "3f44e4e3",
   "metadata": {},
   "outputs": [
    {
     "data": {
      "text/html": [
       "<div>\n",
       "<style scoped>\n",
       "    .dataframe tbody tr th:only-of-type {\n",
       "        vertical-align: middle;\n",
       "    }\n",
       "\n",
       "    .dataframe tbody tr th {\n",
       "        vertical-align: top;\n",
       "    }\n",
       "\n",
       "    .dataframe thead th {\n",
       "        text-align: right;\n",
       "    }\n",
       "</style>\n",
       "<table border=\"1\" class=\"dataframe\">\n",
       "  <thead>\n",
       "    <tr style=\"text-align: right;\">\n",
       "      <th></th>\n",
       "      <th>Date</th>\n",
       "      <th>Product Name</th>\n",
       "      <th>Units Sold</th>\n",
       "      <th>Revenue</th>\n",
       "      <th>Region</th>\n",
       "      <th>Discount Offered (%)</th>\n",
       "      <th>Salesperson</th>\n",
       "      <th>Revenue After Discount</th>\n",
       "    </tr>\n",
       "  </thead>\n",
       "  <tbody>\n",
       "    <tr>\n",
       "      <th>0</th>\n",
       "      <td>2023-01-01</td>\n",
       "      <td>Product A</td>\n",
       "      <td>17</td>\n",
       "      <td>296</td>\n",
       "      <td>North</td>\n",
       "      <td>14</td>\n",
       "      <td>Alice</td>\n",
       "      <td>254.56</td>\n",
       "    </tr>\n",
       "    <tr>\n",
       "      <th>1</th>\n",
       "      <td>2023-01-02</td>\n",
       "      <td>Product B</td>\n",
       "      <td>16</td>\n",
       "      <td>196</td>\n",
       "      <td>South</td>\n",
       "      <td>4</td>\n",
       "      <td>Bob</td>\n",
       "      <td>188.16</td>\n",
       "    </tr>\n",
       "    <tr>\n",
       "      <th>2</th>\n",
       "      <td>2023-01-03</td>\n",
       "      <td>Product C</td>\n",
       "      <td>5</td>\n",
       "      <td>966</td>\n",
       "      <td>East</td>\n",
       "      <td>20</td>\n",
       "      <td>Charlie</td>\n",
       "      <td>772.80</td>\n",
       "    </tr>\n",
       "    <tr>\n",
       "      <th>3</th>\n",
       "      <td>2023-01-04</td>\n",
       "      <td>Product D</td>\n",
       "      <td>11</td>\n",
       "      <td>697</td>\n",
       "      <td>West</td>\n",
       "      <td>22</td>\n",
       "      <td>David</td>\n",
       "      <td>543.66</td>\n",
       "    </tr>\n",
       "    <tr>\n",
       "      <th>4</th>\n",
       "      <td>2023-01-05</td>\n",
       "      <td>Product E</td>\n",
       "      <td>11</td>\n",
       "      <td>148</td>\n",
       "      <td>North</td>\n",
       "      <td>6</td>\n",
       "      <td>Eve</td>\n",
       "      <td>139.12</td>\n",
       "    </tr>\n",
       "    <tr>\n",
       "      <th>5</th>\n",
       "      <td>2023-01-06</td>\n",
       "      <td>Product A</td>\n",
       "      <td>1</td>\n",
       "      <td>520</td>\n",
       "      <td>South</td>\n",
       "      <td>21</td>\n",
       "      <td>Alice</td>\n",
       "      <td>410.80</td>\n",
       "    </tr>\n",
       "    <tr>\n",
       "      <th>6</th>\n",
       "      <td>2023-01-07</td>\n",
       "      <td>Product B</td>\n",
       "      <td>1</td>\n",
       "      <td>465</td>\n",
       "      <td>East</td>\n",
       "      <td>0</td>\n",
       "      <td>Bob</td>\n",
       "      <td>465.00</td>\n",
       "    </tr>\n",
       "    <tr>\n",
       "      <th>7</th>\n",
       "      <td>2023-01-08</td>\n",
       "      <td>Product C</td>\n",
       "      <td>5</td>\n",
       "      <td>101</td>\n",
       "      <td>West</td>\n",
       "      <td>10</td>\n",
       "      <td>Charlie</td>\n",
       "      <td>90.90</td>\n",
       "    </tr>\n",
       "    <tr>\n",
       "      <th>8</th>\n",
       "      <td>2023-01-09</td>\n",
       "      <td>Product D</td>\n",
       "      <td>7</td>\n",
       "      <td>431</td>\n",
       "      <td>North</td>\n",
       "      <td>0</td>\n",
       "      <td>David</td>\n",
       "      <td>431.00</td>\n",
       "    </tr>\n",
       "    <tr>\n",
       "      <th>9</th>\n",
       "      <td>2023-01-10</td>\n",
       "      <td>Product E</td>\n",
       "      <td>14</td>\n",
       "      <td>267</td>\n",
       "      <td>South</td>\n",
       "      <td>27</td>\n",
       "      <td>Eve</td>\n",
       "      <td>194.91</td>\n",
       "    </tr>\n",
       "    <tr>\n",
       "      <th>10</th>\n",
       "      <td>2023-01-11</td>\n",
       "      <td>Product A</td>\n",
       "      <td>10</td>\n",
       "      <td>578</td>\n",
       "      <td>East</td>\n",
       "      <td>10</td>\n",
       "      <td>Alice</td>\n",
       "      <td>520.20</td>\n",
       "    </tr>\n",
       "    <tr>\n",
       "      <th>11</th>\n",
       "      <td>2023-01-12</td>\n",
       "      <td>Product B</td>\n",
       "      <td>16</td>\n",
       "      <td>123</td>\n",
       "      <td>West</td>\n",
       "      <td>16</td>\n",
       "      <td>Bob</td>\n",
       "      <td>103.32</td>\n",
       "    </tr>\n",
       "    <tr>\n",
       "      <th>12</th>\n",
       "      <td>2023-01-13</td>\n",
       "      <td>Product C</td>\n",
       "      <td>2</td>\n",
       "      <td>968</td>\n",
       "      <td>North</td>\n",
       "      <td>28</td>\n",
       "      <td>Charlie</td>\n",
       "      <td>696.96</td>\n",
       "    </tr>\n",
       "    <tr>\n",
       "      <th>13</th>\n",
       "      <td>2023-01-14</td>\n",
       "      <td>Product D</td>\n",
       "      <td>18</td>\n",
       "      <td>757</td>\n",
       "      <td>South</td>\n",
       "      <td>6</td>\n",
       "      <td>David</td>\n",
       "      <td>711.58</td>\n",
       "    </tr>\n",
       "    <tr>\n",
       "      <th>14</th>\n",
       "      <td>2023-01-15</td>\n",
       "      <td>Product E</td>\n",
       "      <td>5</td>\n",
       "      <td>720</td>\n",
       "      <td>East</td>\n",
       "      <td>2</td>\n",
       "      <td>Eve</td>\n",
       "      <td>705.60</td>\n",
       "    </tr>\n",
       "    <tr>\n",
       "      <th>15</th>\n",
       "      <td>2023-01-16</td>\n",
       "      <td>Product A</td>\n",
       "      <td>17</td>\n",
       "      <td>201</td>\n",
       "      <td>West</td>\n",
       "      <td>27</td>\n",
       "      <td>Alice</td>\n",
       "      <td>146.73</td>\n",
       "    </tr>\n",
       "    <tr>\n",
       "      <th>16</th>\n",
       "      <td>2023-01-17</td>\n",
       "      <td>Product B</td>\n",
       "      <td>2</td>\n",
       "      <td>164</td>\n",
       "      <td>North</td>\n",
       "      <td>25</td>\n",
       "      <td>Bob</td>\n",
       "      <td>123.00</td>\n",
       "    </tr>\n",
       "    <tr>\n",
       "      <th>17</th>\n",
       "      <td>2023-01-18</td>\n",
       "      <td>Product C</td>\n",
       "      <td>10</td>\n",
       "      <td>449</td>\n",
       "      <td>South</td>\n",
       "      <td>14</td>\n",
       "      <td>Charlie</td>\n",
       "      <td>386.14</td>\n",
       "    </tr>\n",
       "    <tr>\n",
       "      <th>18</th>\n",
       "      <td>2023-01-19</td>\n",
       "      <td>Product D</td>\n",
       "      <td>11</td>\n",
       "      <td>769</td>\n",
       "      <td>East</td>\n",
       "      <td>7</td>\n",
       "      <td>David</td>\n",
       "      <td>715.17</td>\n",
       "    </tr>\n",
       "    <tr>\n",
       "      <th>19</th>\n",
       "      <td>2023-01-20</td>\n",
       "      <td>Product E</td>\n",
       "      <td>2</td>\n",
       "      <td>311</td>\n",
       "      <td>West</td>\n",
       "      <td>26</td>\n",
       "      <td>Eve</td>\n",
       "      <td>230.14</td>\n",
       "    </tr>\n",
       "  </tbody>\n",
       "</table>\n",
       "</div>"
      ],
      "text/plain": [
       "         Date Product Name  Units Sold  Revenue Region  Discount Offered (%)  \\\n",
       "0  2023-01-01    Product A          17      296  North                    14   \n",
       "1  2023-01-02    Product B          16      196  South                     4   \n",
       "2  2023-01-03    Product C           5      966   East                    20   \n",
       "3  2023-01-04    Product D          11      697   West                    22   \n",
       "4  2023-01-05    Product E          11      148  North                     6   \n",
       "5  2023-01-06    Product A           1      520  South                    21   \n",
       "6  2023-01-07    Product B           1      465   East                     0   \n",
       "7  2023-01-08    Product C           5      101   West                    10   \n",
       "8  2023-01-09    Product D           7      431  North                     0   \n",
       "9  2023-01-10    Product E          14      267  South                    27   \n",
       "10 2023-01-11    Product A          10      578   East                    10   \n",
       "11 2023-01-12    Product B          16      123   West                    16   \n",
       "12 2023-01-13    Product C           2      968  North                    28   \n",
       "13 2023-01-14    Product D          18      757  South                     6   \n",
       "14 2023-01-15    Product E           5      720   East                     2   \n",
       "15 2023-01-16    Product A          17      201   West                    27   \n",
       "16 2023-01-17    Product B           2      164  North                    25   \n",
       "17 2023-01-18    Product C          10      449  South                    14   \n",
       "18 2023-01-19    Product D          11      769   East                     7   \n",
       "19 2023-01-20    Product E           2      311   West                    26   \n",
       "\n",
       "   Salesperson  Revenue After Discount  \n",
       "0        Alice                  254.56  \n",
       "1          Bob                  188.16  \n",
       "2      Charlie                  772.80  \n",
       "3        David                  543.66  \n",
       "4          Eve                  139.12  \n",
       "5        Alice                  410.80  \n",
       "6          Bob                  465.00  \n",
       "7      Charlie                   90.90  \n",
       "8        David                  431.00  \n",
       "9          Eve                  194.91  \n",
       "10       Alice                  520.20  \n",
       "11         Bob                  103.32  \n",
       "12     Charlie                  696.96  \n",
       "13       David                  711.58  \n",
       "14         Eve                  705.60  \n",
       "15       Alice                  146.73  \n",
       "16         Bob                  123.00  \n",
       "17     Charlie                  386.14  \n",
       "18       David                  715.17  \n",
       "19         Eve                  230.14  "
      ]
     },
     "execution_count": 4,
     "metadata": {},
     "output_type": "execute_result"
    }
   ],
   "source": [
    "data={\n",
    "    'Date':pd.date_range(start='2023-01-01',periods=20,freq='D'),\n",
    "    'Product Name':['Product A','Product B','Product C','Product D','Product E'] * 4,\n",
    "    'Units Sold':np.random.randint(1,20,size=20),\n",
    "    'Revenue':np.random.randint(100, 1000, size=20),\n",
    "    'Region':['North','South','East','West'] * 5,\n",
    "    'Discount Offered (%)': [14, 4, 20, 22, 6, 21, 0, 10, 0, 27, 10, 16, 28, 6, 2, 27, 25, 14, 7, 26],\n",
    "    'Salesperson':['Alice','Bob','Charlie','David','Eve']*4\n",
    "}\n",
    "df=pd.DataFrame(data)\n",
    "df['Revenue After Discount']=df['Revenue']*(1 - df['Discount Offered (%)']/100)\n",
    "df"
   ]
  },
  {
   "cell_type": "markdown",
   "id": "3c39e7bd",
   "metadata": {},
   "source": [
    "# 1.\tWhat are the top 3 sales transactions with the highest revenue?"
   ]
  },
  {
   "cell_type": "code",
   "execution_count": 5,
   "id": "24252cae",
   "metadata": {},
   "outputs": [
    {
     "data": {
      "text/html": [
       "<div>\n",
       "<style scoped>\n",
       "    .dataframe tbody tr th:only-of-type {\n",
       "        vertical-align: middle;\n",
       "    }\n",
       "\n",
       "    .dataframe tbody tr th {\n",
       "        vertical-align: top;\n",
       "    }\n",
       "\n",
       "    .dataframe thead th {\n",
       "        text-align: right;\n",
       "    }\n",
       "</style>\n",
       "<table border=\"1\" class=\"dataframe\">\n",
       "  <thead>\n",
       "    <tr style=\"text-align: right;\">\n",
       "      <th></th>\n",
       "      <th>Date</th>\n",
       "      <th>Product Name</th>\n",
       "      <th>Units Sold</th>\n",
       "      <th>Revenue</th>\n",
       "      <th>Region</th>\n",
       "      <th>Discount Offered (%)</th>\n",
       "      <th>Salesperson</th>\n",
       "      <th>Revenue After Discount</th>\n",
       "    </tr>\n",
       "  </thead>\n",
       "  <tbody>\n",
       "    <tr>\n",
       "      <th>12</th>\n",
       "      <td>2023-01-13</td>\n",
       "      <td>Product C</td>\n",
       "      <td>2</td>\n",
       "      <td>968</td>\n",
       "      <td>North</td>\n",
       "      <td>28</td>\n",
       "      <td>Charlie</td>\n",
       "      <td>696.96</td>\n",
       "    </tr>\n",
       "    <tr>\n",
       "      <th>2</th>\n",
       "      <td>2023-01-03</td>\n",
       "      <td>Product C</td>\n",
       "      <td>5</td>\n",
       "      <td>966</td>\n",
       "      <td>East</td>\n",
       "      <td>20</td>\n",
       "      <td>Charlie</td>\n",
       "      <td>772.80</td>\n",
       "    </tr>\n",
       "    <tr>\n",
       "      <th>18</th>\n",
       "      <td>2023-01-19</td>\n",
       "      <td>Product D</td>\n",
       "      <td>11</td>\n",
       "      <td>769</td>\n",
       "      <td>East</td>\n",
       "      <td>7</td>\n",
       "      <td>David</td>\n",
       "      <td>715.17</td>\n",
       "    </tr>\n",
       "  </tbody>\n",
       "</table>\n",
       "</div>"
      ],
      "text/plain": [
       "         Date Product Name  Units Sold  Revenue Region  Discount Offered (%)  \\\n",
       "12 2023-01-13    Product C           2      968  North                    28   \n",
       "2  2023-01-03    Product C           5      966   East                    20   \n",
       "18 2023-01-19    Product D          11      769   East                     7   \n",
       "\n",
       "   Salesperson  Revenue After Discount  \n",
       "12     Charlie                  696.96  \n",
       "2      Charlie                  772.80  \n",
       "18       David                  715.17  "
      ]
     },
     "execution_count": 5,
     "metadata": {},
     "output_type": "execute_result"
    }
   ],
   "source": [
    "df.sort_values(by='Revenue',ascending=False).head(3)"
   ]
  },
  {
   "cell_type": "markdown",
   "id": "23c6ce60",
   "metadata": {},
   "source": [
    "# 2.\tHow many units of each product were sold?"
   ]
  },
  {
   "cell_type": "code",
   "execution_count": 7,
   "id": "a62e9e35",
   "metadata": {},
   "outputs": [
    {
     "data": {
      "text/plain": [
       "Product Name\n",
       "Product A    4\n",
       "Product B    4\n",
       "Product C    4\n",
       "Product D    4\n",
       "Product E    4\n",
       "Name: count, dtype: int64"
      ]
     },
     "execution_count": 7,
     "metadata": {},
     "output_type": "execute_result"
    }
   ],
   "source": [
    "df['Product Name'].value_counts()"
   ]
  },
  {
   "cell_type": "markdown",
   "id": "b5455e8b",
   "metadata": {},
   "source": [
    "# 3.\tWhat is the total revenue after applying discounts?"
   ]
  },
  {
   "cell_type": "code",
   "execution_count": 68,
   "id": "57816dab",
   "metadata": {},
   "outputs": [
    {
     "data": {
      "text/plain": [
       "8844.22"
      ]
     },
     "execution_count": 68,
     "metadata": {},
     "output_type": "execute_result"
    }
   ],
   "source": [
    "total_revenue_after_discount=df['Revenue After Discount'].sum()\n",
    "total_revenue_after_discount"
   ]
  },
  {
   "cell_type": "markdown",
   "id": "da6172b5",
   "metadata": {},
   "source": [
    "# 4.\tWhich sales transaction had the highest discount offered, and how much revenue did it generate after applying the discount?"
   ]
  },
  {
   "cell_type": "code",
   "execution_count": 69,
   "id": "17854f8d",
   "metadata": {},
   "outputs": [
    {
     "data": {
      "text/html": [
       "<div>\n",
       "<style scoped>\n",
       "    .dataframe tbody tr th:only-of-type {\n",
       "        vertical-align: middle;\n",
       "    }\n",
       "\n",
       "    .dataframe tbody tr th {\n",
       "        vertical-align: top;\n",
       "    }\n",
       "\n",
       "    .dataframe thead th {\n",
       "        text-align: right;\n",
       "    }\n",
       "</style>\n",
       "<table border=\"1\" class=\"dataframe\">\n",
       "  <thead>\n",
       "    <tr style=\"text-align: right;\">\n",
       "      <th></th>\n",
       "      <th>Date</th>\n",
       "      <th>Product Name</th>\n",
       "      <th>Units Sold</th>\n",
       "      <th>Revenue</th>\n",
       "      <th>Region</th>\n",
       "      <th>Discount Offered (%)</th>\n",
       "      <th>Salesperson</th>\n",
       "      <th>Revenue After Discount</th>\n",
       "    </tr>\n",
       "  </thead>\n",
       "  <tbody>\n",
       "    <tr>\n",
       "      <th>12</th>\n",
       "      <td>2023-01-13</td>\n",
       "      <td>Product C</td>\n",
       "      <td>1</td>\n",
       "      <td>270</td>\n",
       "      <td>North</td>\n",
       "      <td>28</td>\n",
       "      <td>Charlie</td>\n",
       "      <td>194.4</td>\n",
       "    </tr>\n",
       "  </tbody>\n",
       "</table>\n",
       "</div>"
      ],
      "text/plain": [
       "         Date Product Name  Units Sold  Revenue Region  Discount Offered (%)  \\\n",
       "12 2023-01-13    Product C           1      270  North                    28   \n",
       "\n",
       "   Salesperson  Revenue After Discount  \n",
       "12     Charlie                   194.4  "
      ]
     },
     "execution_count": 69,
     "metadata": {},
     "output_type": "execute_result"
    }
   ],
   "source": [
    "maxdisc=df['Discount Offered (%)'].max()\n",
    "df[df['Discount Offered (%)']==maxdisc]\n",
    "max_discount_row = df[df['Discount Offered (%)'] == maxdisc]\n",
    "max_discount_row"
   ]
  },
  {
   "cell_type": "code",
   "execution_count": 70,
   "id": "da090704",
   "metadata": {},
   "outputs": [
    {
     "name": "stdout",
     "output_type": "stream",
     "text": [
      "12    194.4\n",
      "Name: Revenue After Discount, dtype: float64\n"
     ]
    }
   ],
   "source": [
    "print(max_discount_row['Revenue After Discount'])"
   ]
  },
  {
   "cell_type": "markdown",
   "id": "a11fb622",
   "metadata": {},
   "source": [
    "# 5.\tWhich salesperson generated the highest total revenue?"
   ]
  },
  {
   "cell_type": "code",
   "execution_count": 71,
   "id": "084cfd51",
   "metadata": {},
   "outputs": [
    {
     "data": {
      "text/plain": [
       "'Bob'"
      ]
     },
     "execution_count": 71,
     "metadata": {},
     "output_type": "execute_result"
    }
   ],
   "source": [
    "df.groupby('Salesperson')['Revenue'].sum().idxmax()"
   ]
  },
  {
   "cell_type": "markdown",
   "id": "54e2af02",
   "metadata": {},
   "source": [
    "# 6.What is the average discount offered by each salesperson?\n"
   ]
  },
  {
   "cell_type": "code",
   "execution_count": 72,
   "id": "6c67d982",
   "metadata": {},
   "outputs": [
    {
     "data": {
      "text/plain": [
       "Salesperson\n",
       "Alice      18.00\n",
       "Bob        11.25\n",
       "Charlie    18.00\n",
       "David       8.75\n",
       "Eve        15.25\n",
       "Name: Discount Offered (%), dtype: float64"
      ]
     },
     "execution_count": 72,
     "metadata": {},
     "output_type": "execute_result"
    }
   ],
   "source": [
    "df.groupby('Salesperson')['Discount Offered (%)'].mean()"
   ]
  },
  {
   "cell_type": "markdown",
   "id": "e9bb419d",
   "metadata": {},
   "source": [
    "# 7.\tHow much revenue was generated in each region?"
   ]
  },
  {
   "cell_type": "code",
   "execution_count": 73,
   "id": "acbebf0a",
   "metadata": {},
   "outputs": [
    {
     "data": {
      "text/plain": [
       "Region\n",
       "East     3392\n",
       "North    2447\n",
       "South    2313\n",
       "West     2125\n",
       "Name: Revenue, dtype: int32"
      ]
     },
     "execution_count": 73,
     "metadata": {},
     "output_type": "execute_result"
    }
   ],
   "source": [
    "df.groupby('Region')['Revenue'].sum()"
   ]
  },
  {
   "cell_type": "markdown",
   "id": "91c3ecf1",
   "metadata": {},
   "source": [
    "# 8.\tIn which region did Alice generate the highest sales?"
   ]
  },
  {
   "cell_type": "code",
   "execution_count": 74,
   "id": "7381dd29",
   "metadata": {},
   "outputs": [
    {
     "data": {
      "text/plain": [
       "'South'"
      ]
     },
     "execution_count": 74,
     "metadata": {},
     "output_type": "execute_result"
    }
   ],
   "source": [
    "alice=df[df['Salesperson']=='Alice']\n",
    "alice.loc[alice['Revenue'].idxmax(),'Region']"
   ]
  },
  {
   "cell_type": "markdown",
   "id": "7b1a6117",
   "metadata": {},
   "source": [
    "# 9.\tWhich product generated the highest revenue per unit sold?"
   ]
  },
  {
   "cell_type": "code",
   "execution_count": 75,
   "id": "e16145e9",
   "metadata": {},
   "outputs": [
    {
     "data": {
      "text/plain": [
       "'Product C'"
      ]
     },
     "execution_count": 75,
     "metadata": {},
     "output_type": "execute_result"
    }
   ],
   "source": [
    "df['Rpu']=df['Revenue']/df['Units Sold']\n",
    "df.loc[df['Rpu'].idxmax(),'Product Name']"
   ]
  },
  {
   "cell_type": "markdown",
   "id": "9ebd9deb",
   "metadata": {},
   "source": [
    "# 10.\tHow many transactions were rated as \"High\" performance?"
   ]
  },
  {
   "cell_type": "code",
   "execution_count": 76,
   "id": "f99df3ff",
   "metadata": {},
   "outputs": [
    {
     "data": {
      "text/plain": [
       "11"
      ]
     },
     "execution_count": 76,
     "metadata": {},
     "output_type": "execute_result"
    }
   ],
   "source": [
    "df2=df[df['Revenue']>500]\n",
    "df2.shape[0]"
   ]
  },
  {
   "cell_type": "markdown",
   "id": "e5b484d3",
   "metadata": {},
   "source": [
    "# 11.\tWhich salesperson sold the most units in the North region without offering any discount?"
   ]
  },
  {
   "cell_type": "code",
   "execution_count": 77,
   "id": "a7a48633",
   "metadata": {},
   "outputs": [
    {
     "data": {
      "text/plain": [
       "'David'"
      ]
     },
     "execution_count": 77,
     "metadata": {},
     "output_type": "execute_result"
    }
   ],
   "source": [
    "north_sales_no_discount = df[(df['Region'] == 'North') & (df['Discount Offered (%)'] == 0)]\n",
    "top_salesperson_north = north_sales_no_discount.groupby('Salesperson')['Units Sold'].sum().idxmax()\n",
    "top_salesperson_north"
   ]
  },
  {
   "cell_type": "markdown",
   "id": "49882491",
   "metadata": {},
   "source": [
    "# 12.\tWhat is the average revenue per unit sold in each region for each product?\n",
    "\n"
   ]
  },
  {
   "cell_type": "code",
   "execution_count": 78,
   "id": "43d7ffbe",
   "metadata": {},
   "outputs": [
    {
     "data": {
      "text/plain": [
       "Region  Product Name\n",
       "East    Product A       103.500000\n",
       "        Product B       104.222222\n",
       "        Product C        70.083333\n",
       "        Product D        29.777778\n",
       "        Product E        41.500000\n",
       "North   Product A        62.166667\n",
       "        Product B       121.833333\n",
       "        Product C       270.000000\n",
       "        Product D        72.416667\n",
       "        Product E        68.000000\n",
       "South   Product A        78.818182\n",
       "        Product B        65.125000\n",
       "        Product C         8.764706\n",
       "        Product D        40.000000\n",
       "        Product E        67.000000\n",
       "West    Product A        16.750000\n",
       "        Product B        48.333333\n",
       "        Product C       179.000000\n",
       "        Product D       239.000000\n",
       "        Product E        43.500000\n",
       "Name: Rpu, dtype: float64"
      ]
     },
     "execution_count": 78,
     "metadata": {},
     "output_type": "execute_result"
    }
   ],
   "source": [
    "df.groupby(['Region', 'Product Name'])['Rpu'].mean() "
   ]
  },
  {
   "cell_type": "markdown",
   "id": "7fb60a10",
   "metadata": {},
   "source": [
    "# 13.\tWhich salesperson has the highest average revenue after discounts, and how does it compare between regions?"
   ]
  },
  {
   "cell_type": "code",
   "execution_count": 79,
   "id": "f0ebb6a7",
   "metadata": {},
   "outputs": [
    {
     "data": {
      "text/plain": [
       "'Bob'"
      ]
     },
     "execution_count": 79,
     "metadata": {},
     "output_type": "execute_result"
    }
   ],
   "source": [
    "df.groupby('Salesperson')['Revenue After Discount'].mean().idxmax()"
   ]
  },
  {
   "cell_type": "code",
   "execution_count": 80,
   "id": "b97aba59",
   "metadata": {},
   "outputs": [
    {
     "data": {
      "text/plain": [
       "Salesperson  Region\n",
       "Alice        East      745.20\n",
       "             North     320.78\n",
       "             South     684.93\n",
       "             West       97.82\n",
       "Bob          East      938.00\n",
       "             North     548.25\n",
       "             South     500.16\n",
       "             West      609.00\n",
       "Charlie      East      672.80\n",
       "             North     194.40\n",
       "             South     128.14\n",
       "             West      161.10\n",
       "David        East      498.48\n",
       "             North     869.00\n",
       "             South     225.60\n",
       "             West      372.84\n",
       "Eve          East      244.02\n",
       "             North     191.76\n",
       "             South     391.28\n",
       "             West      450.66\n",
       "Name: Revenue After Discount, dtype: float64"
      ]
     },
     "execution_count": 80,
     "metadata": {},
     "output_type": "execute_result"
    }
   ],
   "source": [
    "df.groupby(['Salesperson','Region'])['Revenue After Discount'].mean()"
   ]
  },
  {
   "cell_type": "markdown",
   "id": "ad88b2e1",
   "metadata": {},
   "source": [
    "# 14.\tWhat is the cumulative total revenue over time for each salesperson?"
   ]
  },
  {
   "cell_type": "code",
   "execution_count": 81,
   "id": "d1b08b9a",
   "metadata": {},
   "outputs": [
    {
     "data": {
      "text/html": [
       "<div>\n",
       "<style scoped>\n",
       "    .dataframe tbody tr th:only-of-type {\n",
       "        vertical-align: middle;\n",
       "    }\n",
       "\n",
       "    .dataframe tbody tr th {\n",
       "        vertical-align: top;\n",
       "    }\n",
       "\n",
       "    .dataframe thead th {\n",
       "        text-align: right;\n",
       "    }\n",
       "</style>\n",
       "<table border=\"1\" class=\"dataframe\">\n",
       "  <thead>\n",
       "    <tr style=\"text-align: right;\">\n",
       "      <th></th>\n",
       "      <th>Date</th>\n",
       "      <th>Product Name</th>\n",
       "      <th>Units Sold</th>\n",
       "      <th>Revenue</th>\n",
       "      <th>Region</th>\n",
       "      <th>Discount Offered (%)</th>\n",
       "      <th>Salesperson</th>\n",
       "      <th>Revenue After Discount</th>\n",
       "      <th>Rpu</th>\n",
       "      <th>Cumulative Revenue</th>\n",
       "    </tr>\n",
       "  </thead>\n",
       "  <tbody>\n",
       "    <tr>\n",
       "      <th>0</th>\n",
       "      <td>2023-01-01</td>\n",
       "      <td>Product A</td>\n",
       "      <td>6</td>\n",
       "      <td>373</td>\n",
       "      <td>North</td>\n",
       "      <td>14</td>\n",
       "      <td>Alice</td>\n",
       "      <td>320.78</td>\n",
       "      <td>62.166667</td>\n",
       "      <td>373</td>\n",
       "    </tr>\n",
       "    <tr>\n",
       "      <th>5</th>\n",
       "      <td>2023-01-06</td>\n",
       "      <td>Product A</td>\n",
       "      <td>11</td>\n",
       "      <td>867</td>\n",
       "      <td>South</td>\n",
       "      <td>21</td>\n",
       "      <td>Alice</td>\n",
       "      <td>684.93</td>\n",
       "      <td>78.818182</td>\n",
       "      <td>1240</td>\n",
       "    </tr>\n",
       "    <tr>\n",
       "      <th>10</th>\n",
       "      <td>2023-01-11</td>\n",
       "      <td>Product A</td>\n",
       "      <td>8</td>\n",
       "      <td>828</td>\n",
       "      <td>East</td>\n",
       "      <td>10</td>\n",
       "      <td>Alice</td>\n",
       "      <td>745.20</td>\n",
       "      <td>103.500000</td>\n",
       "      <td>2068</td>\n",
       "    </tr>\n",
       "    <tr>\n",
       "      <th>15</th>\n",
       "      <td>2023-01-16</td>\n",
       "      <td>Product A</td>\n",
       "      <td>8</td>\n",
       "      <td>134</td>\n",
       "      <td>West</td>\n",
       "      <td>27</td>\n",
       "      <td>Alice</td>\n",
       "      <td>97.82</td>\n",
       "      <td>16.750000</td>\n",
       "      <td>2202</td>\n",
       "    </tr>\n",
       "    <tr>\n",
       "      <th>1</th>\n",
       "      <td>2023-01-02</td>\n",
       "      <td>Product B</td>\n",
       "      <td>8</td>\n",
       "      <td>521</td>\n",
       "      <td>South</td>\n",
       "      <td>4</td>\n",
       "      <td>Bob</td>\n",
       "      <td>500.16</td>\n",
       "      <td>65.125000</td>\n",
       "      <td>521</td>\n",
       "    </tr>\n",
       "    <tr>\n",
       "      <th>6</th>\n",
       "      <td>2023-01-07</td>\n",
       "      <td>Product B</td>\n",
       "      <td>9</td>\n",
       "      <td>938</td>\n",
       "      <td>East</td>\n",
       "      <td>0</td>\n",
       "      <td>Bob</td>\n",
       "      <td>938.00</td>\n",
       "      <td>104.222222</td>\n",
       "      <td>1459</td>\n",
       "    </tr>\n",
       "    <tr>\n",
       "      <th>11</th>\n",
       "      <td>2023-01-12</td>\n",
       "      <td>Product B</td>\n",
       "      <td>15</td>\n",
       "      <td>725</td>\n",
       "      <td>West</td>\n",
       "      <td>16</td>\n",
       "      <td>Bob</td>\n",
       "      <td>609.00</td>\n",
       "      <td>48.333333</td>\n",
       "      <td>2184</td>\n",
       "    </tr>\n",
       "    <tr>\n",
       "      <th>16</th>\n",
       "      <td>2023-01-17</td>\n",
       "      <td>Product B</td>\n",
       "      <td>6</td>\n",
       "      <td>731</td>\n",
       "      <td>North</td>\n",
       "      <td>25</td>\n",
       "      <td>Bob</td>\n",
       "      <td>548.25</td>\n",
       "      <td>121.833333</td>\n",
       "      <td>2915</td>\n",
       "    </tr>\n",
       "    <tr>\n",
       "      <th>2</th>\n",
       "      <td>2023-01-03</td>\n",
       "      <td>Product C</td>\n",
       "      <td>12</td>\n",
       "      <td>841</td>\n",
       "      <td>East</td>\n",
       "      <td>20</td>\n",
       "      <td>Charlie</td>\n",
       "      <td>672.80</td>\n",
       "      <td>70.083333</td>\n",
       "      <td>841</td>\n",
       "    </tr>\n",
       "    <tr>\n",
       "      <th>7</th>\n",
       "      <td>2023-01-08</td>\n",
       "      <td>Product C</td>\n",
       "      <td>1</td>\n",
       "      <td>179</td>\n",
       "      <td>West</td>\n",
       "      <td>10</td>\n",
       "      <td>Charlie</td>\n",
       "      <td>161.10</td>\n",
       "      <td>179.000000</td>\n",
       "      <td>1020</td>\n",
       "    </tr>\n",
       "    <tr>\n",
       "      <th>12</th>\n",
       "      <td>2023-01-13</td>\n",
       "      <td>Product C</td>\n",
       "      <td>1</td>\n",
       "      <td>270</td>\n",
       "      <td>North</td>\n",
       "      <td>28</td>\n",
       "      <td>Charlie</td>\n",
       "      <td>194.40</td>\n",
       "      <td>270.000000</td>\n",
       "      <td>1290</td>\n",
       "    </tr>\n",
       "    <tr>\n",
       "      <th>17</th>\n",
       "      <td>2023-01-18</td>\n",
       "      <td>Product C</td>\n",
       "      <td>17</td>\n",
       "      <td>149</td>\n",
       "      <td>South</td>\n",
       "      <td>14</td>\n",
       "      <td>Charlie</td>\n",
       "      <td>128.14</td>\n",
       "      <td>8.764706</td>\n",
       "      <td>1439</td>\n",
       "    </tr>\n",
       "    <tr>\n",
       "      <th>3</th>\n",
       "      <td>2023-01-04</td>\n",
       "      <td>Product D</td>\n",
       "      <td>2</td>\n",
       "      <td>478</td>\n",
       "      <td>West</td>\n",
       "      <td>22</td>\n",
       "      <td>David</td>\n",
       "      <td>372.84</td>\n",
       "      <td>239.000000</td>\n",
       "      <td>478</td>\n",
       "    </tr>\n",
       "    <tr>\n",
       "      <th>8</th>\n",
       "      <td>2023-01-09</td>\n",
       "      <td>Product D</td>\n",
       "      <td>12</td>\n",
       "      <td>869</td>\n",
       "      <td>North</td>\n",
       "      <td>0</td>\n",
       "      <td>David</td>\n",
       "      <td>869.00</td>\n",
       "      <td>72.416667</td>\n",
       "      <td>1347</td>\n",
       "    </tr>\n",
       "    <tr>\n",
       "      <th>13</th>\n",
       "      <td>2023-01-14</td>\n",
       "      <td>Product D</td>\n",
       "      <td>6</td>\n",
       "      <td>240</td>\n",
       "      <td>South</td>\n",
       "      <td>6</td>\n",
       "      <td>David</td>\n",
       "      <td>225.60</td>\n",
       "      <td>40.000000</td>\n",
       "      <td>1587</td>\n",
       "    </tr>\n",
       "    <tr>\n",
       "      <th>18</th>\n",
       "      <td>2023-01-19</td>\n",
       "      <td>Product D</td>\n",
       "      <td>18</td>\n",
       "      <td>536</td>\n",
       "      <td>East</td>\n",
       "      <td>7</td>\n",
       "      <td>David</td>\n",
       "      <td>498.48</td>\n",
       "      <td>29.777778</td>\n",
       "      <td>2123</td>\n",
       "    </tr>\n",
       "    <tr>\n",
       "      <th>4</th>\n",
       "      <td>2023-01-05</td>\n",
       "      <td>Product E</td>\n",
       "      <td>3</td>\n",
       "      <td>204</td>\n",
       "      <td>North</td>\n",
       "      <td>6</td>\n",
       "      <td>Eve</td>\n",
       "      <td>191.76</td>\n",
       "      <td>68.000000</td>\n",
       "      <td>204</td>\n",
       "    </tr>\n",
       "    <tr>\n",
       "      <th>9</th>\n",
       "      <td>2023-01-10</td>\n",
       "      <td>Product E</td>\n",
       "      <td>8</td>\n",
       "      <td>536</td>\n",
       "      <td>South</td>\n",
       "      <td>27</td>\n",
       "      <td>Eve</td>\n",
       "      <td>391.28</td>\n",
       "      <td>67.000000</td>\n",
       "      <td>740</td>\n",
       "    </tr>\n",
       "    <tr>\n",
       "      <th>14</th>\n",
       "      <td>2023-01-15</td>\n",
       "      <td>Product E</td>\n",
       "      <td>6</td>\n",
       "      <td>249</td>\n",
       "      <td>East</td>\n",
       "      <td>2</td>\n",
       "      <td>Eve</td>\n",
       "      <td>244.02</td>\n",
       "      <td>41.500000</td>\n",
       "      <td>989</td>\n",
       "    </tr>\n",
       "    <tr>\n",
       "      <th>19</th>\n",
       "      <td>2023-01-20</td>\n",
       "      <td>Product E</td>\n",
       "      <td>14</td>\n",
       "      <td>609</td>\n",
       "      <td>West</td>\n",
       "      <td>26</td>\n",
       "      <td>Eve</td>\n",
       "      <td>450.66</td>\n",
       "      <td>43.500000</td>\n",
       "      <td>1598</td>\n",
       "    </tr>\n",
       "  </tbody>\n",
       "</table>\n",
       "</div>"
      ],
      "text/plain": [
       "         Date Product Name  Units Sold  Revenue Region  Discount Offered (%)  \\\n",
       "0  2023-01-01    Product A           6      373  North                    14   \n",
       "5  2023-01-06    Product A          11      867  South                    21   \n",
       "10 2023-01-11    Product A           8      828   East                    10   \n",
       "15 2023-01-16    Product A           8      134   West                    27   \n",
       "1  2023-01-02    Product B           8      521  South                     4   \n",
       "6  2023-01-07    Product B           9      938   East                     0   \n",
       "11 2023-01-12    Product B          15      725   West                    16   \n",
       "16 2023-01-17    Product B           6      731  North                    25   \n",
       "2  2023-01-03    Product C          12      841   East                    20   \n",
       "7  2023-01-08    Product C           1      179   West                    10   \n",
       "12 2023-01-13    Product C           1      270  North                    28   \n",
       "17 2023-01-18    Product C          17      149  South                    14   \n",
       "3  2023-01-04    Product D           2      478   West                    22   \n",
       "8  2023-01-09    Product D          12      869  North                     0   \n",
       "13 2023-01-14    Product D           6      240  South                     6   \n",
       "18 2023-01-19    Product D          18      536   East                     7   \n",
       "4  2023-01-05    Product E           3      204  North                     6   \n",
       "9  2023-01-10    Product E           8      536  South                    27   \n",
       "14 2023-01-15    Product E           6      249   East                     2   \n",
       "19 2023-01-20    Product E          14      609   West                    26   \n",
       "\n",
       "   Salesperson  Revenue After Discount         Rpu  Cumulative Revenue  \n",
       "0        Alice                  320.78   62.166667                 373  \n",
       "5        Alice                  684.93   78.818182                1240  \n",
       "10       Alice                  745.20  103.500000                2068  \n",
       "15       Alice                   97.82   16.750000                2202  \n",
       "1          Bob                  500.16   65.125000                 521  \n",
       "6          Bob                  938.00  104.222222                1459  \n",
       "11         Bob                  609.00   48.333333                2184  \n",
       "16         Bob                  548.25  121.833333                2915  \n",
       "2      Charlie                  672.80   70.083333                 841  \n",
       "7      Charlie                  161.10  179.000000                1020  \n",
       "12     Charlie                  194.40  270.000000                1290  \n",
       "17     Charlie                  128.14    8.764706                1439  \n",
       "3        David                  372.84  239.000000                 478  \n",
       "8        David                  869.00   72.416667                1347  \n",
       "13       David                  225.60   40.000000                1587  \n",
       "18       David                  498.48   29.777778                2123  \n",
       "4          Eve                  191.76   68.000000                 204  \n",
       "9          Eve                  391.28   67.000000                 740  \n",
       "14         Eve                  244.02   41.500000                 989  \n",
       "19         Eve                  450.66   43.500000                1598  "
      ]
     },
     "execution_count": 81,
     "metadata": {},
     "output_type": "execute_result"
    }
   ],
   "source": [
    "df14=df.sort_values(by=['Salesperson', 'Date'])\n",
    "df14['Cumulative Revenue'] = df14.groupby('Salesperson')['Revenue'].cumsum()\n",
    "df14"
   ]
  },
  {
   "cell_type": "markdown",
   "id": "37ff4ac3",
   "metadata": {},
   "source": [
    "# 15.\tFor each salesperson, rank the transactions by revenue, and find the top 2 transactions for each."
   ]
  },
  {
   "cell_type": "code",
   "execution_count": 82,
   "id": "c67027f0",
   "metadata": {},
   "outputs": [
    {
     "data": {
      "text/html": [
       "<div>\n",
       "<style scoped>\n",
       "    .dataframe tbody tr th:only-of-type {\n",
       "        vertical-align: middle;\n",
       "    }\n",
       "\n",
       "    .dataframe tbody tr th {\n",
       "        vertical-align: top;\n",
       "    }\n",
       "\n",
       "    .dataframe thead th {\n",
       "        text-align: right;\n",
       "    }\n",
       "</style>\n",
       "<table border=\"1\" class=\"dataframe\">\n",
       "  <thead>\n",
       "    <tr style=\"text-align: right;\">\n",
       "      <th></th>\n",
       "      <th>Date</th>\n",
       "      <th>Product Name</th>\n",
       "      <th>Units Sold</th>\n",
       "      <th>Revenue</th>\n",
       "      <th>Region</th>\n",
       "      <th>Discount Offered (%)</th>\n",
       "      <th>Salesperson</th>\n",
       "      <th>Revenue After Discount</th>\n",
       "      <th>Rpu</th>\n",
       "      <th>Revenue Rank</th>\n",
       "    </tr>\n",
       "  </thead>\n",
       "  <tbody>\n",
       "    <tr>\n",
       "      <th>2</th>\n",
       "      <td>2023-01-03</td>\n",
       "      <td>Product C</td>\n",
       "      <td>12</td>\n",
       "      <td>841</td>\n",
       "      <td>East</td>\n",
       "      <td>20</td>\n",
       "      <td>Charlie</td>\n",
       "      <td>672.80</td>\n",
       "      <td>70.083333</td>\n",
       "      <td>1.0</td>\n",
       "    </tr>\n",
       "    <tr>\n",
       "      <th>5</th>\n",
       "      <td>2023-01-06</td>\n",
       "      <td>Product A</td>\n",
       "      <td>11</td>\n",
       "      <td>867</td>\n",
       "      <td>South</td>\n",
       "      <td>21</td>\n",
       "      <td>Alice</td>\n",
       "      <td>684.93</td>\n",
       "      <td>78.818182</td>\n",
       "      <td>1.0</td>\n",
       "    </tr>\n",
       "    <tr>\n",
       "      <th>6</th>\n",
       "      <td>2023-01-07</td>\n",
       "      <td>Product B</td>\n",
       "      <td>9</td>\n",
       "      <td>938</td>\n",
       "      <td>East</td>\n",
       "      <td>0</td>\n",
       "      <td>Bob</td>\n",
       "      <td>938.00</td>\n",
       "      <td>104.222222</td>\n",
       "      <td>1.0</td>\n",
       "    </tr>\n",
       "    <tr>\n",
       "      <th>8</th>\n",
       "      <td>2023-01-09</td>\n",
       "      <td>Product D</td>\n",
       "      <td>12</td>\n",
       "      <td>869</td>\n",
       "      <td>North</td>\n",
       "      <td>0</td>\n",
       "      <td>David</td>\n",
       "      <td>869.00</td>\n",
       "      <td>72.416667</td>\n",
       "      <td>1.0</td>\n",
       "    </tr>\n",
       "    <tr>\n",
       "      <th>9</th>\n",
       "      <td>2023-01-10</td>\n",
       "      <td>Product E</td>\n",
       "      <td>8</td>\n",
       "      <td>536</td>\n",
       "      <td>South</td>\n",
       "      <td>27</td>\n",
       "      <td>Eve</td>\n",
       "      <td>391.28</td>\n",
       "      <td>67.000000</td>\n",
       "      <td>2.0</td>\n",
       "    </tr>\n",
       "    <tr>\n",
       "      <th>10</th>\n",
       "      <td>2023-01-11</td>\n",
       "      <td>Product A</td>\n",
       "      <td>8</td>\n",
       "      <td>828</td>\n",
       "      <td>East</td>\n",
       "      <td>10</td>\n",
       "      <td>Alice</td>\n",
       "      <td>745.20</td>\n",
       "      <td>103.500000</td>\n",
       "      <td>2.0</td>\n",
       "    </tr>\n",
       "    <tr>\n",
       "      <th>12</th>\n",
       "      <td>2023-01-13</td>\n",
       "      <td>Product C</td>\n",
       "      <td>1</td>\n",
       "      <td>270</td>\n",
       "      <td>North</td>\n",
       "      <td>28</td>\n",
       "      <td>Charlie</td>\n",
       "      <td>194.40</td>\n",
       "      <td>270.000000</td>\n",
       "      <td>2.0</td>\n",
       "    </tr>\n",
       "    <tr>\n",
       "      <th>16</th>\n",
       "      <td>2023-01-17</td>\n",
       "      <td>Product B</td>\n",
       "      <td>6</td>\n",
       "      <td>731</td>\n",
       "      <td>North</td>\n",
       "      <td>25</td>\n",
       "      <td>Bob</td>\n",
       "      <td>548.25</td>\n",
       "      <td>121.833333</td>\n",
       "      <td>2.0</td>\n",
       "    </tr>\n",
       "    <tr>\n",
       "      <th>18</th>\n",
       "      <td>2023-01-19</td>\n",
       "      <td>Product D</td>\n",
       "      <td>18</td>\n",
       "      <td>536</td>\n",
       "      <td>East</td>\n",
       "      <td>7</td>\n",
       "      <td>David</td>\n",
       "      <td>498.48</td>\n",
       "      <td>29.777778</td>\n",
       "      <td>2.0</td>\n",
       "    </tr>\n",
       "    <tr>\n",
       "      <th>19</th>\n",
       "      <td>2023-01-20</td>\n",
       "      <td>Product E</td>\n",
       "      <td>14</td>\n",
       "      <td>609</td>\n",
       "      <td>West</td>\n",
       "      <td>26</td>\n",
       "      <td>Eve</td>\n",
       "      <td>450.66</td>\n",
       "      <td>43.500000</td>\n",
       "      <td>1.0</td>\n",
       "    </tr>\n",
       "  </tbody>\n",
       "</table>\n",
       "</div>"
      ],
      "text/plain": [
       "         Date Product Name  Units Sold  Revenue Region  Discount Offered (%)  \\\n",
       "2  2023-01-03    Product C          12      841   East                    20   \n",
       "5  2023-01-06    Product A          11      867  South                    21   \n",
       "6  2023-01-07    Product B           9      938   East                     0   \n",
       "8  2023-01-09    Product D          12      869  North                     0   \n",
       "9  2023-01-10    Product E           8      536  South                    27   \n",
       "10 2023-01-11    Product A           8      828   East                    10   \n",
       "12 2023-01-13    Product C           1      270  North                    28   \n",
       "16 2023-01-17    Product B           6      731  North                    25   \n",
       "18 2023-01-19    Product D          18      536   East                     7   \n",
       "19 2023-01-20    Product E          14      609   West                    26   \n",
       "\n",
       "   Salesperson  Revenue After Discount         Rpu  Revenue Rank  \n",
       "2      Charlie                  672.80   70.083333           1.0  \n",
       "5        Alice                  684.93   78.818182           1.0  \n",
       "6          Bob                  938.00  104.222222           1.0  \n",
       "8        David                  869.00   72.416667           1.0  \n",
       "9          Eve                  391.28   67.000000           2.0  \n",
       "10       Alice                  745.20  103.500000           2.0  \n",
       "12     Charlie                  194.40  270.000000           2.0  \n",
       "16         Bob                  548.25  121.833333           2.0  \n",
       "18       David                  498.48   29.777778           2.0  \n",
       "19         Eve                  450.66   43.500000           1.0  "
      ]
     },
     "execution_count": 82,
     "metadata": {},
     "output_type": "execute_result"
    }
   ],
   "source": [
    "df['Revenue Rank']=df.groupby('Salesperson')['Revenue'].rank(ascending=False)\n",
    "Top2=df[df['Revenue Rank']<=2]\n",
    "Top2"
   ]
  },
  {
   "cell_type": "markdown",
   "id": "1f157143",
   "metadata": {},
   "source": [
    "# 16.\tHow has the total revenue generated by each product changed over time? Show cumulative revenue for each product per day."
   ]
  },
  {
   "cell_type": "code",
   "execution_count": 83,
   "id": "d4142ca0",
   "metadata": {},
   "outputs": [
    {
     "data": {
      "text/html": [
       "<div>\n",
       "<style scoped>\n",
       "    .dataframe tbody tr th:only-of-type {\n",
       "        vertical-align: middle;\n",
       "    }\n",
       "\n",
       "    .dataframe tbody tr th {\n",
       "        vertical-align: top;\n",
       "    }\n",
       "\n",
       "    .dataframe thead th {\n",
       "        text-align: right;\n",
       "    }\n",
       "</style>\n",
       "<table border=\"1\" class=\"dataframe\">\n",
       "  <thead>\n",
       "    <tr style=\"text-align: right;\">\n",
       "      <th></th>\n",
       "      <th>Date</th>\n",
       "      <th>Product Name</th>\n",
       "      <th>Cumulative_Revenue_Product</th>\n",
       "    </tr>\n",
       "  </thead>\n",
       "  <tbody>\n",
       "    <tr>\n",
       "      <th>0</th>\n",
       "      <td>2023-01-01</td>\n",
       "      <td>Product A</td>\n",
       "      <td>373</td>\n",
       "    </tr>\n",
       "    <tr>\n",
       "      <th>5</th>\n",
       "      <td>2023-01-06</td>\n",
       "      <td>Product A</td>\n",
       "      <td>1240</td>\n",
       "    </tr>\n",
       "    <tr>\n",
       "      <th>10</th>\n",
       "      <td>2023-01-11</td>\n",
       "      <td>Product A</td>\n",
       "      <td>2068</td>\n",
       "    </tr>\n",
       "    <tr>\n",
       "      <th>15</th>\n",
       "      <td>2023-01-16</td>\n",
       "      <td>Product A</td>\n",
       "      <td>2202</td>\n",
       "    </tr>\n",
       "    <tr>\n",
       "      <th>1</th>\n",
       "      <td>2023-01-02</td>\n",
       "      <td>Product B</td>\n",
       "      <td>521</td>\n",
       "    </tr>\n",
       "    <tr>\n",
       "      <th>6</th>\n",
       "      <td>2023-01-07</td>\n",
       "      <td>Product B</td>\n",
       "      <td>1459</td>\n",
       "    </tr>\n",
       "    <tr>\n",
       "      <th>11</th>\n",
       "      <td>2023-01-12</td>\n",
       "      <td>Product B</td>\n",
       "      <td>2184</td>\n",
       "    </tr>\n",
       "    <tr>\n",
       "      <th>16</th>\n",
       "      <td>2023-01-17</td>\n",
       "      <td>Product B</td>\n",
       "      <td>2915</td>\n",
       "    </tr>\n",
       "    <tr>\n",
       "      <th>2</th>\n",
       "      <td>2023-01-03</td>\n",
       "      <td>Product C</td>\n",
       "      <td>841</td>\n",
       "    </tr>\n",
       "    <tr>\n",
       "      <th>7</th>\n",
       "      <td>2023-01-08</td>\n",
       "      <td>Product C</td>\n",
       "      <td>1020</td>\n",
       "    </tr>\n",
       "    <tr>\n",
       "      <th>12</th>\n",
       "      <td>2023-01-13</td>\n",
       "      <td>Product C</td>\n",
       "      <td>1290</td>\n",
       "    </tr>\n",
       "    <tr>\n",
       "      <th>17</th>\n",
       "      <td>2023-01-18</td>\n",
       "      <td>Product C</td>\n",
       "      <td>1439</td>\n",
       "    </tr>\n",
       "    <tr>\n",
       "      <th>3</th>\n",
       "      <td>2023-01-04</td>\n",
       "      <td>Product D</td>\n",
       "      <td>478</td>\n",
       "    </tr>\n",
       "    <tr>\n",
       "      <th>8</th>\n",
       "      <td>2023-01-09</td>\n",
       "      <td>Product D</td>\n",
       "      <td>1347</td>\n",
       "    </tr>\n",
       "    <tr>\n",
       "      <th>13</th>\n",
       "      <td>2023-01-14</td>\n",
       "      <td>Product D</td>\n",
       "      <td>1587</td>\n",
       "    </tr>\n",
       "    <tr>\n",
       "      <th>18</th>\n",
       "      <td>2023-01-19</td>\n",
       "      <td>Product D</td>\n",
       "      <td>2123</td>\n",
       "    </tr>\n",
       "    <tr>\n",
       "      <th>4</th>\n",
       "      <td>2023-01-05</td>\n",
       "      <td>Product E</td>\n",
       "      <td>204</td>\n",
       "    </tr>\n",
       "    <tr>\n",
       "      <th>9</th>\n",
       "      <td>2023-01-10</td>\n",
       "      <td>Product E</td>\n",
       "      <td>740</td>\n",
       "    </tr>\n",
       "    <tr>\n",
       "      <th>14</th>\n",
       "      <td>2023-01-15</td>\n",
       "      <td>Product E</td>\n",
       "      <td>989</td>\n",
       "    </tr>\n",
       "    <tr>\n",
       "      <th>19</th>\n",
       "      <td>2023-01-20</td>\n",
       "      <td>Product E</td>\n",
       "      <td>1598</td>\n",
       "    </tr>\n",
       "  </tbody>\n",
       "</table>\n",
       "</div>"
      ],
      "text/plain": [
       "         Date Product Name  Cumulative_Revenue_Product\n",
       "0  2023-01-01    Product A                         373\n",
       "5  2023-01-06    Product A                        1240\n",
       "10 2023-01-11    Product A                        2068\n",
       "15 2023-01-16    Product A                        2202\n",
       "1  2023-01-02    Product B                         521\n",
       "6  2023-01-07    Product B                        1459\n",
       "11 2023-01-12    Product B                        2184\n",
       "16 2023-01-17    Product B                        2915\n",
       "2  2023-01-03    Product C                         841\n",
       "7  2023-01-08    Product C                        1020\n",
       "12 2023-01-13    Product C                        1290\n",
       "17 2023-01-18    Product C                        1439\n",
       "3  2023-01-04    Product D                         478\n",
       "8  2023-01-09    Product D                        1347\n",
       "13 2023-01-14    Product D                        1587\n",
       "18 2023-01-19    Product D                        2123\n",
       "4  2023-01-05    Product E                         204\n",
       "9  2023-01-10    Product E                         740\n",
       "14 2023-01-15    Product E                         989\n",
       "19 2023-01-20    Product E                        1598"
      ]
     },
     "execution_count": 83,
     "metadata": {},
     "output_type": "execute_result"
    }
   ],
   "source": [
    "df14=df.sort_values(by=['Product Name', 'Date'])\n",
    "df14['Cumulative_Revenue_Product'] = df14.groupby('Salesperson')['Revenue'].cumsum()\n",
    "df14[['Date','Product Name','Cumulative_Revenue_Product']]"
   ]
  },
  {
   "cell_type": "markdown",
   "id": "e8f3bfdb",
   "metadata": {},
   "source": [
    "# 17.\tAnalyze how discounts affect revenue. For each product, what is the average revenue generated with a discount compared to without a discount?"
   ]
  },
  {
   "cell_type": "code",
   "execution_count": 84,
   "id": "5ddfddac",
   "metadata": {},
   "outputs": [
    {
     "name": "stdout",
     "output_type": "stream",
     "text": [
      "Avg revenue without discount\n"
     ]
    },
    {
     "data": {
      "text/plain": [
       "Product Name\n",
       "Product A    550.50\n",
       "Product B    728.75\n",
       "Product C    359.75\n",
       "Product D    530.75\n",
       "Product E    399.50\n",
       "Name: Revenue, dtype: float64"
      ]
     },
     "execution_count": 84,
     "metadata": {},
     "output_type": "execute_result"
    }
   ],
   "source": [
    "print(\"Avg revenue without discount\")\n",
    "df.groupby('Product Name')['Revenue'].mean()"
   ]
  },
  {
   "cell_type": "code",
   "execution_count": 85,
   "id": "50229cf6",
   "metadata": {},
   "outputs": [
    {
     "data": {
      "text/plain": [
       "Text(0.5, 1.0, 'Avg revenue without discount')"
      ]
     },
     "execution_count": 85,
     "metadata": {},
     "output_type": "execute_result"
    },
    {
     "data": {
      "image/png": "[encoded data removed]",
      "text/plain": [
       "<Figure size 640x480 with 1 Axes>"
      ]
     },
     "metadata": {},
     "output_type": "display_data"
    }
   ],
   "source": [
    "plt.plot(df.groupby('Product Name')['Revenue'].mean())\n",
    "plt.title(\"Avg revenue without discount\")"
   ]
  },
  {
   "cell_type": "code",
   "execution_count": 86,
   "id": "a4ed88f7",
   "metadata": {},
   "outputs": [
    {
     "name": "stdout",
     "output_type": "stream",
     "text": [
      "Avg revenue with discount\n"
     ]
    },
    {
     "data": {
      "text/plain": [
       "Product Name\n",
       "Product A    462.1825\n",
       "Product B    648.8525\n",
       "Product C    289.1100\n",
       "Product D    491.4800\n",
       "Product E    319.4300\n",
       "Name: Revenue After Discount, dtype: float64"
      ]
     },
     "execution_count": 86,
     "metadata": {},
     "output_type": "execute_result"
    }
   ],
   "source": [
    "print(\"Avg revenue with discount\")\n",
    "df.groupby('Product Name')['Revenue After Discount'].mean()"
   ]
  },
  {
   "cell_type": "code",
   "execution_count": 87,
   "id": "6eb7e25f",
   "metadata": {},
   "outputs": [
    {
     "data": {
      "text/plain": [
       "Text(0.5, 1.0, 'Avg revenue with discount')"
      ]
     },
     "execution_count": 87,
     "metadata": {},
     "output_type": "execute_result"
    },
    {
     "data": {
      "image/png": "[encoded data removed]",
      "text/plain": [
       "<Figure size 640x480 with 1 Axes>"
      ]
     },
     "metadata": {},
     "output_type": "display_data"
    }
   ],
   "source": [
    "plt.plot(df.groupby('Product Name')['Revenue After Discount'].mean())\n",
    "plt.title(\"Avg revenue with discount\")"
   ]
  },
  {
   "cell_type": "markdown",
   "id": "c51ffbd5",
   "metadata": {},
   "source": [
    "# 18.\tWhat is the weighted average discount offered by each salesperson, weighted by the revenue they generated?"
   ]
  },
  {
   "cell_type": "code",
   "execution_count": 12,
   "id": "9e688935",
   "metadata": {},
   "outputs": [
    {
     "data": {
      "text/html": [
       "<div>\n",
       "<style scoped>\n",
       "    .dataframe tbody tr th:only-of-type {\n",
       "        vertical-align: middle;\n",
       "    }\n",
       "\n",
       "    .dataframe tbody tr th {\n",
       "        vertical-align: top;\n",
       "    }\n",
       "\n",
       "    .dataframe thead th {\n",
       "        text-align: right;\n",
       "    }\n",
       "</style>\n",
       "<table border=\"1\" class=\"dataframe\">\n",
       "  <thead>\n",
       "    <tr style=\"text-align: right;\">\n",
       "      <th></th>\n",
       "      <th>Salesperson</th>\n",
       "      <th>Weighted Discount</th>\n",
       "    </tr>\n",
       "  </thead>\n",
       "  <tbody>\n",
       "    <tr>\n",
       "      <th>0</th>\n",
       "      <td>Alice</td>\n",
       "      <td>2.878383</td>\n",
       "    </tr>\n",
       "    <tr>\n",
       "      <th>1</th>\n",
       "      <td>Bob</td>\n",
       "      <td>0.750740</td>\n",
       "    </tr>\n",
       "    <tr>\n",
       "      <th>2</th>\n",
       "      <td>Charlie</td>\n",
       "      <td>5.885833</td>\n",
       "    </tr>\n",
       "    <tr>\n",
       "      <th>3</th>\n",
       "      <td>David</td>\n",
       "      <td>2.767503</td>\n",
       "    </tr>\n",
       "    <tr>\n",
       "      <th>4</th>\n",
       "      <td>Eve</td>\n",
       "      <td>1.930864</td>\n",
       "    </tr>\n",
       "  </tbody>\n",
       "</table>\n",
       "</div>"
      ],
      "text/plain": [
       "  Salesperson  Weighted Discount\n",
       "0       Alice           2.878383\n",
       "1         Bob           0.750740\n",
       "2     Charlie           5.885833\n",
       "3       David           2.767503\n",
       "4         Eve           1.930864"
      ]
     },
     "execution_count": 12,
     "metadata": {},
     "output_type": "execute_result"
    }
   ],
   "source": [
    "df['Weighted Discount']=df['Discount Offered (%)']*(df['Revenue']/df['Revenue'].sum())\n",
    "weighted_average_discount=df.groupby('Salesperson').agg({'Weighted Discount': 'sum'}).reset_index()\n",
    "weighted_average_discount"
   ]
  },
  {
   "cell_type": "markdown",
   "id": "70e1a15e",
   "metadata": {},
   "source": [
    "# 19.\tWhat percentage of the total revenue does each region contribute? Compare it to the total revenue per region."
   ]
  },
  {
   "cell_type": "code",
   "execution_count": 89,
   "id": "cad6ced5",
   "metadata": {},
   "outputs": [
    {
     "data": {
      "text/html": [
       "<div>\n",
       "<style scoped>\n",
       "    .dataframe tbody tr th:only-of-type {\n",
       "        vertical-align: middle;\n",
       "    }\n",
       "\n",
       "    .dataframe tbody tr th {\n",
       "        vertical-align: top;\n",
       "    }\n",
       "\n",
       "    .dataframe thead th {\n",
       "        text-align: right;\n",
       "    }\n",
       "</style>\n",
       "<table border=\"1\" class=\"dataframe\">\n",
       "  <thead>\n",
       "    <tr style=\"text-align: right;\">\n",
       "      <th></th>\n",
       "      <th>Region</th>\n",
       "      <th>Revenue</th>\n",
       "      <th>Percentage Contribution</th>\n",
       "    </tr>\n",
       "  </thead>\n",
       "  <tbody>\n",
       "    <tr>\n",
       "      <th>0</th>\n",
       "      <td>East</td>\n",
       "      <td>3392</td>\n",
       "      <td>33.005741</td>\n",
       "    </tr>\n",
       "    <tr>\n",
       "      <th>1</th>\n",
       "      <td>North</td>\n",
       "      <td>2447</td>\n",
       "      <td>23.810451</td>\n",
       "    </tr>\n",
       "    <tr>\n",
       "      <th>2</th>\n",
       "      <td>South</td>\n",
       "      <td>2313</td>\n",
       "      <td>22.506568</td>\n",
       "    </tr>\n",
       "    <tr>\n",
       "      <th>3</th>\n",
       "      <td>West</td>\n",
       "      <td>2125</td>\n",
       "      <td>20.677240</td>\n",
       "    </tr>\n",
       "  </tbody>\n",
       "</table>\n",
       "</div>"
      ],
      "text/plain": [
       "  Region  Revenue  Percentage Contribution\n",
       "0   East     3392                33.005741\n",
       "1  North     2447                23.810451\n",
       "2  South     2313                22.506568\n",
       "3   West     2125                20.677240"
      ]
     },
     "execution_count": 89,
     "metadata": {},
     "output_type": "execute_result"
    }
   ],
   "source": [
    "total_revenue_per_region=df.groupby('Region')['Revenue'].sum().reset_index()\n",
    "total_revenue=total_revenue_per_region['Revenue'].sum()\n",
    "total_revenue_per_region['Percentage Contribution']=(total_revenue_per_region['Revenue'] / total_revenue) * 100\n",
    "total_revenue_per_region\n"
   ]
  }
 ],
 "metadata": {
  "kernelspec": {
   "display_name": "Python 3 (ipykernel)",
   "language": "python",
   "name": "python3"
  },
  "language_info": {
   "codemirror_mode": {
    "name": "ipython",
    "version": 3
   },
   "file_extension": ".py",
   "mimetype": "text/x-python",
   "name": "python",
   "nbconvert_exporter": "python",
   "pygments_lexer": "ipython3",
   "version": "3.9.12"
  }
 },
 "nbformat": 4,
 "nbformat_minor": 5
}
